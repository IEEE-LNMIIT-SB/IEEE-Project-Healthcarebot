{
 "cells": [
  {
   "cell_type": "code",
   "execution_count": 1,
   "metadata": {
    "colab": {},
    "colab_type": "code",
    "id": "LcDHj59hDsOj"
   },
   "outputs": [],
   "source": [
    "import pandas as pd\n",
    "from bs4 import BeautifulSoup as soup\n",
    "from urllib.request import urlopen"
   ]
  },
  {
   "cell_type": "code",
   "execution_count": 2,
   "metadata": {
    "colab": {},
    "colab_type": "code",
    "id": "YD8PWWMmDsOn"
   },
   "outputs": [],
   "source": [
    "home_url = 'https://medlineplus.gov/encyclopedia.html'"
   ]
  },
  {
   "cell_type": "code",
   "execution_count": 3,
   "metadata": {
    "colab": {
     "base_uri": "https://localhost:8080/",
     "height": 67
    },
    "colab_type": "code",
    "id": "Xt4onpGxDsOr",
    "outputId": "a62e4a2f-be3f-4bd6-af33-610c0839471f"
   },
   "outputs": [
    {
     "data": {
      "text/plain": [
       "['https://medlineplus.gov/ency/encyclopedia_A.htm',\n",
       " 'https://medlineplus.gov/ency/encyclopedia_B.htm',\n",
       " 'https://medlineplus.gov/ency/encyclopedia_C.htm']"
      ]
     },
     "execution_count": 3,
     "metadata": {},
     "output_type": "execute_result"
    }
   ],
   "source": [
    "client = urlopen(home_url)\n",
    "home_html = client.read()\n",
    "client.close()\n",
    "\n",
    "home_html_soup = soup(home_html, 'html.parser')\n",
    "\n",
    "list_of_all_a = home_html_soup.body.find('ul', {\n",
    "    'class' : 'alpha-links'\n",
    "}).find_all('a')\n",
    "\n",
    "list_of_all_alpha_links = []\n",
    "\n",
    "for link in list_of_all_a :\n",
    "    link_url = 'https://medlineplus.gov/' + link['href']\n",
    "    list_of_all_alpha_links.append(link_url)\n",
    "    \n",
    "list_of_all_alpha_links.pop()\n",
    "\n",
    "list_of_all_alpha_links[:3]"
   ]
  },
  {
   "cell_type": "code",
   "execution_count": 4,
   "metadata": {
    "colab": {},
    "colab_type": "code",
    "id": "9VxKRYoODsOw"
   },
   "outputs": [],
   "source": [
    "df = pd.DataFrame(data={\"Alpha Links\": list_of_all_alpha_links})\n",
    "df.to_csv(\"list_of_all_alpha_links.csv\", sep=',',index=False)"
   ]
  },
  {
   "cell_type": "code",
   "execution_count": 5,
   "metadata": {
    "colab": {
     "base_uri": "https://localhost:8080/",
     "height": 817
    },
    "colab_type": "code",
    "id": "l67KoZNvMClb",
    "outputId": "ebe0fde4-c7c5-4f58-a5e3-66251f39c44c"
   },
   "outputs": [
    {
     "data": {
      "text/html": [
       "<div>\n",
       "<style scoped>\n",
       "    .dataframe tbody tr th:only-of-type {\n",
       "        vertical-align: middle;\n",
       "    }\n",
       "\n",
       "    .dataframe tbody tr th {\n",
       "        vertical-align: top;\n",
       "    }\n",
       "\n",
       "    .dataframe thead th {\n",
       "        text-align: right;\n",
       "    }\n",
       "</style>\n",
       "<table border=\"1\" class=\"dataframe\">\n",
       "  <thead>\n",
       "    <tr style=\"text-align: right;\">\n",
       "      <th></th>\n",
       "      <th>Alpha Links</th>\n",
       "    </tr>\n",
       "  </thead>\n",
       "  <tbody>\n",
       "    <tr>\n",
       "      <th>0</th>\n",
       "      <td>https://medlineplus.gov/ency/encyclopedia_A.htm</td>\n",
       "    </tr>\n",
       "    <tr>\n",
       "      <th>1</th>\n",
       "      <td>https://medlineplus.gov/ency/encyclopedia_B.htm</td>\n",
       "    </tr>\n",
       "    <tr>\n",
       "      <th>2</th>\n",
       "      <td>https://medlineplus.gov/ency/encyclopedia_C.htm</td>\n",
       "    </tr>\n",
       "    <tr>\n",
       "      <th>3</th>\n",
       "      <td>https://medlineplus.gov/ency/encyclopedia_D.htm</td>\n",
       "    </tr>\n",
       "    <tr>\n",
       "      <th>4</th>\n",
       "      <td>https://medlineplus.gov/ency/encyclopedia_E.htm</td>\n",
       "    </tr>\n",
       "    <tr>\n",
       "      <th>5</th>\n",
       "      <td>https://medlineplus.gov/ency/encyclopedia_F.htm</td>\n",
       "    </tr>\n",
       "    <tr>\n",
       "      <th>6</th>\n",
       "      <td>https://medlineplus.gov/ency/encyclopedia_G.htm</td>\n",
       "    </tr>\n",
       "    <tr>\n",
       "      <th>7</th>\n",
       "      <td>https://medlineplus.gov/ency/encyclopedia_H.htm</td>\n",
       "    </tr>\n",
       "    <tr>\n",
       "      <th>8</th>\n",
       "      <td>https://medlineplus.gov/ency/encyclopedia_I.htm</td>\n",
       "    </tr>\n",
       "    <tr>\n",
       "      <th>9</th>\n",
       "      <td>https://medlineplus.gov/ency/encyclopedia_J.htm</td>\n",
       "    </tr>\n",
       "    <tr>\n",
       "      <th>10</th>\n",
       "      <td>https://medlineplus.gov/ency/encyclopedia_K.htm</td>\n",
       "    </tr>\n",
       "    <tr>\n",
       "      <th>11</th>\n",
       "      <td>https://medlineplus.gov/ency/encyclopedia_L.htm</td>\n",
       "    </tr>\n",
       "    <tr>\n",
       "      <th>12</th>\n",
       "      <td>https://medlineplus.gov/ency/encyclopedia_M.htm</td>\n",
       "    </tr>\n",
       "    <tr>\n",
       "      <th>13</th>\n",
       "      <td>https://medlineplus.gov/ency/encyclopedia_N.htm</td>\n",
       "    </tr>\n",
       "    <tr>\n",
       "      <th>14</th>\n",
       "      <td>https://medlineplus.gov/ency/encyclopedia_O.htm</td>\n",
       "    </tr>\n",
       "    <tr>\n",
       "      <th>15</th>\n",
       "      <td>https://medlineplus.gov/ency/encyclopedia_P.htm</td>\n",
       "    </tr>\n",
       "    <tr>\n",
       "      <th>16</th>\n",
       "      <td>https://medlineplus.gov/ency/encyclopedia_Q.htm</td>\n",
       "    </tr>\n",
       "    <tr>\n",
       "      <th>17</th>\n",
       "      <td>https://medlineplus.gov/ency/encyclopedia_R.htm</td>\n",
       "    </tr>\n",
       "    <tr>\n",
       "      <th>18</th>\n",
       "      <td>https://medlineplus.gov/ency/encyclopedia_S.htm</td>\n",
       "    </tr>\n",
       "    <tr>\n",
       "      <th>19</th>\n",
       "      <td>https://medlineplus.gov/ency/encyclopedia_T.htm</td>\n",
       "    </tr>\n",
       "    <tr>\n",
       "      <th>20</th>\n",
       "      <td>https://medlineplus.gov/ency/encyclopedia_U.htm</td>\n",
       "    </tr>\n",
       "    <tr>\n",
       "      <th>21</th>\n",
       "      <td>https://medlineplus.gov/ency/encyclopedia_V.htm</td>\n",
       "    </tr>\n",
       "    <tr>\n",
       "      <th>22</th>\n",
       "      <td>https://medlineplus.gov/ency/encyclopedia_W.htm</td>\n",
       "    </tr>\n",
       "    <tr>\n",
       "      <th>23</th>\n",
       "      <td>https://medlineplus.gov/ency/encyclopedia_X.htm</td>\n",
       "    </tr>\n",
       "    <tr>\n",
       "      <th>24</th>\n",
       "      <td>https://medlineplus.gov/ency/encyclopedia_Y.htm</td>\n",
       "    </tr>\n",
       "    <tr>\n",
       "      <th>25</th>\n",
       "      <td>https://medlineplus.gov/ency/encyclopedia_Z.htm</td>\n",
       "    </tr>\n",
       "  </tbody>\n",
       "</table>\n",
       "</div>"
      ],
      "text/plain": [
       "                                        Alpha Links\n",
       "0   https://medlineplus.gov/ency/encyclopedia_A.htm\n",
       "1   https://medlineplus.gov/ency/encyclopedia_B.htm\n",
       "2   https://medlineplus.gov/ency/encyclopedia_C.htm\n",
       "3   https://medlineplus.gov/ency/encyclopedia_D.htm\n",
       "4   https://medlineplus.gov/ency/encyclopedia_E.htm\n",
       "5   https://medlineplus.gov/ency/encyclopedia_F.htm\n",
       "6   https://medlineplus.gov/ency/encyclopedia_G.htm\n",
       "7   https://medlineplus.gov/ency/encyclopedia_H.htm\n",
       "8   https://medlineplus.gov/ency/encyclopedia_I.htm\n",
       "9   https://medlineplus.gov/ency/encyclopedia_J.htm\n",
       "10  https://medlineplus.gov/ency/encyclopedia_K.htm\n",
       "11  https://medlineplus.gov/ency/encyclopedia_L.htm\n",
       "12  https://medlineplus.gov/ency/encyclopedia_M.htm\n",
       "13  https://medlineplus.gov/ency/encyclopedia_N.htm\n",
       "14  https://medlineplus.gov/ency/encyclopedia_O.htm\n",
       "15  https://medlineplus.gov/ency/encyclopedia_P.htm\n",
       "16  https://medlineplus.gov/ency/encyclopedia_Q.htm\n",
       "17  https://medlineplus.gov/ency/encyclopedia_R.htm\n",
       "18  https://medlineplus.gov/ency/encyclopedia_S.htm\n",
       "19  https://medlineplus.gov/ency/encyclopedia_T.htm\n",
       "20  https://medlineplus.gov/ency/encyclopedia_U.htm\n",
       "21  https://medlineplus.gov/ency/encyclopedia_V.htm\n",
       "22  https://medlineplus.gov/ency/encyclopedia_W.htm\n",
       "23  https://medlineplus.gov/ency/encyclopedia_X.htm\n",
       "24  https://medlineplus.gov/ency/encyclopedia_Y.htm\n",
       "25  https://medlineplus.gov/ency/encyclopedia_Z.htm"
      ]
     },
     "execution_count": 5,
     "metadata": {},
     "output_type": "execute_result"
    }
   ],
   "source": [
    "pd.read_csv(\"list_of_all_alpha_links.csv\")"
   ]
  },
  {
   "cell_type": "code",
   "execution_count": 6,
   "metadata": {
    "colab": {},
    "colab_type": "code",
    "id": "GnxlYJSrDsO0",
    "scrolled": true
   },
   "outputs": [],
   "source": [
    "list_of_link_of_diseases = []\n",
    "for each_alpha_link in list_of_all_alpha_links:\n",
    "    client = urlopen(each_alpha_link)\n",
    "    alpha_html = client.read()\n",
    "    client.close()\n",
    "    \n",
    "    alpha_html_soup = soup(alpha_html, 'html.parser')\n",
    "    \n",
    "    ul_of_diseases = alpha_html_soup.find('ul', {\n",
    "        'id' : 'index'\n",
    "    })\n",
    "    \n",
    "    # print(ul_of_diseases, \"\\n ******************************** \\n\")\n",
    "    # print(ul_of_diseases)\n",
    "    \n",
    "    list_of_a_tags_of_diseases = ul_of_diseases.find_all('a')\n",
    "    \n",
    "    for each_diseases_link in list_of_a_tags_of_diseases :\n",
    "        disease_url = 'https://medlineplus.gov/ency/' + each_diseases_link['href']\n",
    "        list_of_link_of_diseases.append(disease_url)"
   ]
  },
  {
   "cell_type": "code",
   "execution_count": 7,
   "metadata": {
    "colab": {
     "base_uri": "https://localhost:8080/",
     "height": 70
    },
    "colab_type": "code",
    "id": "aW5LJ9JLDsO5",
    "outputId": "910fa605-64fc-4927-b9c0-cffce22ba2d4"
   },
   "outputs": [
    {
     "name": "stdout",
     "output_type": "stream",
     "text": [
      "4441\n",
      "['https://medlineplus.gov/ency/patientinstructions/000823.htm', 'https://medlineplus.gov/ency/patientinstructions/000921.htm', 'https://medlineplus.gov/ency/patientinstructions/000868.htm', 'https://medlineplus.gov/ency/article/003640.htm', 'https://medlineplus.gov/ency/article/001654.htm', 'https://medlineplus.gov/ency/article/001662.htm', 'https://medlineplus.gov/ency/article/003122.htm', 'https://medlineplus.gov/ency/article/000162.htm', 'https://medlineplus.gov/ency/article/007392.htm', 'https://medlineplus.gov/ency/patientinstructions/000240.htm']\n"
     ]
    }
   ],
   "source": [
    "print(len(list_of_link_of_diseases))\n",
    "print(list_of_link_of_diseases[0:10])"
   ]
  },
  {
   "cell_type": "code",
   "execution_count": null,
   "metadata": {},
   "outputs": [],
   "source": []
  },
  {
   "cell_type": "code",
   "execution_count": null,
   "metadata": {
    "colab": {},
    "colab_type": "code",
    "id": "Q4SIe5NgDsO-"
   },
   "outputs": [],
   "source": [
    "final_data = []\n",
    "for each_disease_link in list_of_link_of_diseases :\n",
    "    disease_url = each_disease_link\n",
    "    client = urlopen(disease_url)\n",
    "    disease_html = client.read()\n",
    "    client.close\n",
    "    \n",
    "    disease_html_soup = soup(disease_html, 'html.parser')\n",
    "    \n",
    "    disease_name = disease_html_soup.find('div', {\n",
    "        'id' : 'mplus-content'\n",
    "    }).find('h1',{\n",
    "        'itemprop' : 'name'\n",
    "    }).text\n",
    "    \n",
    "    # print(disease_name)\n",
    "    \n",
    "#     disease_symptoms_li_list = disease_html_soup.find('div', {\n",
    "#         'id' : 'mplus-content'\n",
    "#     }).find('div',{\n",
    "#       'class': 'section-body',\n",
    "#         'id' : 'section-2'\n",
    "#     }).find_all('li')\n",
    "\n",
    "    disease_symptom_div = disease_html_soup.find('div', {\n",
    "        'id' : 'mplus-content'\n",
    "    }).find('div',{\n",
    "      'class': 'section-body',\n",
    "        'id' : 'section-2'\n",
    "    })\n",
    "  \n",
    "    if disease_symptom_div is not None :\n",
    "       dummy_var = disease_symptom_div.find('ul')\n",
    "       if dummy_var is not None : \n",
    "        disease_symptoms_li_list = dummy_var\n",
    "        \n",
    "\n",
    "#     disease_symptoms_text_list = []\n",
    "#     for symptom_text in disease_symptoms_li_list :\n",
    "#         disease_symptoms_text_list.append(symptom_text.text)\n",
    "    \n",
    "#     print(disease_name, disease_symptoms_text_list)\n",
    "\n",
    "    for each_disease in disease_symptoms_li_list :\n",
    "      symptoms = ''\n",
    "      if each_disease is not None :\n",
    "        symptoms = each_disease.text\n",
    "      data_point = {\n",
    "          'Disease_name' : disease_name,\n",
    "          'Disease_symptoms' : symptoms\n",
    "      }\n",
    "      \n",
    "      final_data.append(data_point)\n",
    "      \n",
    "#     print(len(final_data))\n",
    "#     print(final_data[:10])\n",
    "      \n",
    "#     if disease_symptoms_li_list is not None :\n",
    "#       print(disease_symptoms_li_list.text)\n",
    "print(len(final_data))\n",
    "print(final_data[:5])"
   ]
  },
  {
   "cell_type": "code",
   "execution_count": 0,
   "metadata": {
    "colab": {},
    "colab_type": "code",
    "id": "q9THp3g6L5vm"
   },
   "outputs": [],
   "source": []
  }
 ],
 "metadata": {
  "colab": {
   "name": "Scrapping data for IEEE.ipynb",
   "provenance": [],
   "version": "0.3.2"
  },
  "kernelspec": {
   "display_name": "Python 3",
   "language": "python",
   "name": "python3"
  },
  "language_info": {
   "codemirror_mode": {
    "name": "ipython",
    "version": 3
   },
   "file_extension": ".py",
   "mimetype": "text/x-python",
   "name": "python",
   "nbconvert_exporter": "python",
   "pygments_lexer": "ipython3",
   "version": "3.6.7"
  }
 },
 "nbformat": 4,
 "nbformat_minor": 1
}
