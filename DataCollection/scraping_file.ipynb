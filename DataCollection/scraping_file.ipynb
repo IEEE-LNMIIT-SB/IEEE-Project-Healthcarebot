{
 "cells": [
  {
   "cell_type": "code",
   "execution_count": 1,
   "metadata": {},
   "outputs": [],
   "source": [
    "import requests\n",
    "import pandas as pd\n",
    "from bs4 import BeautifulSoup"
   ]
  },
  {
   "cell_type": "code",
   "execution_count": 2,
   "metadata": {},
   "outputs": [
    {
     "name": "stdout",
     "output_type": "stream",
     "text": [
      "200\n",
      "{'Content-Type': 'text/html', 'Transfer-Encoding': 'chunked', 'Connection': 'keep-alive', 'Date': 'Fri, 21 Jun 2019 02:24:07 GMT', 'Server': 'nginx', 'Last-Modified': 'Wed, 19 Jun 2019 14:17:24 GMT', 'ETag': 'W/\"3cb5c6dfe75befe1377a8b6dae4096ac\"', 'Cache-Control': 'public, max-age=600, proxy-revalidate', 'Content-Encoding': 'gzip', 'Vary': 'Accept-Encoding', 'Age': '257', 'X-Cache': 'Hit from cloudfront', 'Via': '1.1 14484a063800eaed878a3068abf4dfac.cloudfront.net (CloudFront)', 'X-Amz-Cf-Pop': 'FRA54', 'X-Amz-Cf-Id': 'sqxuFxu7Eyhk2CjlxqnhqexkAH9hxko3OqzumakWxWaPFKItzRsI6w=='}\n"
     ]
    }
   ],
   "source": [
    "links_page_result = requests.get('https://www.your.md/your-symptoms')\n",
    "print(links_page_result.status_code)\n",
    "print(links_page_result.headers)"
   ]
  },
  {
   "cell_type": "code",
   "execution_count": 3,
   "metadata": {},
   "outputs": [],
   "source": [
    "links_page_content = links_page_result.content\n",
    "links_page_soup = BeautifulSoup(links_page_content, 'html.parser')"
   ]
  },
  {
   "cell_type": "code",
   "execution_count": 4,
   "metadata": {},
   "outputs": [],
   "source": [
    "ul_of_links = links_page_soup.find(\"section\", {\"class\": \"list\"})"
   ]
  },
  {
   "cell_type": "code",
   "execution_count": 5,
   "metadata": {},
   "outputs": [],
   "source": [
    "list_of_a_tags = ul_of_links.find_all('a')"
   ]
  },
  {
   "cell_type": "code",
   "execution_count": 6,
   "metadata": {},
   "outputs": [],
   "source": [
    "list_of_href = [link.attrs['href'] for link in list_of_a_tags]"
   ]
  },
  {
   "cell_type": "code",
   "execution_count": 7,
   "metadata": {},
   "outputs": [],
   "source": [
    "list_of_href = ['https://www.your.md' + link for link in list_of_href]"
   ]
  },
  {
   "cell_type": "code",
   "execution_count": 8,
   "metadata": {},
   "outputs": [
    {
     "name": "stdout",
     "output_type": "stream",
     "text": [
      "['Abdominal Pain Spreading To Shoulder Blade, Right Sided Abdominal Pain, Upper Abdominal Pain, Vomiting, Sweating, Feeling Sick Nausea and Loss Of Appetite', 'Abdominal Pain Worse On Pressing, Right Sided Abdominal Pain, Vomiting, Feeling Sick Nausea, High Temperature and Loss Of Appetite', 'Abdominal pain', 'Abdominal pain after eating', 'Abdominal pain and Bloody diarrhoea']\n"
     ]
    }
   ],
   "source": [
    "list_of_alphabets = [link.text for link in list_of_a_tags]\n",
    "print(list_of_alphabets[0:5])"
   ]
  },
  {
   "cell_type": "code",
   "execution_count": 9,
   "metadata": {},
   "outputs": [
    {
     "name": "stdout",
     "output_type": "stream",
     "text": [
      "                                             symptom                                                url\n",
      "0  Abdominal Pain Spreading To Shoulder Blade, Ri...  https://www.your.md/your-symptoms/pain-radiati...\n",
      "1  Abdominal Pain Worse On Pressing, Right Sided ...  https://www.your.md/your-symptoms/abdominal-pa...\n",
      "2                                     Abdominal pain  https://www.your.md/your-symptoms/abdominal-pain/\n",
      "3                        Abdominal pain after eating  https://www.your.md/your-symptoms/postprandial...\n",
      "4                Abdominal pain and Bloody diarrhoea  https://www.your.md/your-symptoms/abdominal-pa...\n"
     ]
    }
   ],
   "source": [
    "links_data = pd.DataFrame({'symptom' : list_of_alphabets,'url' : list_of_href,})\n",
    "print(links_data.head())"
   ]
  },
  {
   "cell_type": "code",
   "execution_count": 10,
   "metadata": {},
   "outputs": [
    {
     "data": {
      "text/plain": [
       "(1035, 2)"
      ]
     },
     "execution_count": 10,
     "metadata": {},
     "output_type": "execute_result"
    }
   ],
   "source": [
    "links_data.shape"
   ]
  },
  {
   "cell_type": "code",
   "execution_count": 11,
   "metadata": {},
   "outputs": [],
   "source": [
    "symptoms = []\n",
    "disease_name = []\n",
    "count = 0\n",
    "for each_disease_link in list_of_href:\n",
    "    \n",
    "    each_disease_req = requests.get(each_disease_link)\n",
    "    disease_soup = BeautifulSoup(each_disease_req.content, 'html.parser')\n",
    "    \n",
    "    heading = disease_soup.find('h1').text\n",
    "    \n",
    "    sections = disease_soup.find(\"section\", {\"class\": \"bigfoot-section\"})\n",
    "    try:\n",
    "        name = sections.find('ul').text.strip()\n",
    "    except:\n",
    "        ValueError\n",
    "    name = name.replace(\"  \", \"\")\n",
    "    name = name.replace(\"\\n\\n\\n\\n\\n\", \",\")\n",
    "    #name = name.to_list()\n",
    "    \n",
    "    #name = name.split(',')\n",
    "    symptoms.append(heading)\n",
    "    disease_name.append(name)\n",
    "    \n",
    "    \n",
    "    \n",
    "    count=count+1"
   ]
  },
  {
   "cell_type": "code",
   "execution_count": 12,
   "metadata": {},
   "outputs": [
    {
     "data": {
      "text/html": [
       "<div>\n",
       "<style scoped>\n",
       "    .dataframe tbody tr th:only-of-type {\n",
       "        vertical-align: middle;\n",
       "    }\n",
       "\n",
       "    .dataframe tbody tr th {\n",
       "        vertical-align: top;\n",
       "    }\n",
       "\n",
       "    .dataframe thead th {\n",
       "        text-align: right;\n",
       "    }\n",
       "</style>\n",
       "<table border=\"1\" class=\"dataframe\">\n",
       "  <thead>\n",
       "    <tr style=\"text-align: right;\">\n",
       "      <th></th>\n",
       "      <th>symptom</th>\n",
       "      <th>disease</th>\n",
       "    </tr>\n",
       "  </thead>\n",
       "  <tbody>\n",
       "    <tr>\n",
       "      <th>0</th>\n",
       "      <td>Abdominal Pain Spreading To Shoulder Blade, Ri...</td>\n",
       "      <td>Acute Cholecystitis,Gallstone</td>\n",
       "    </tr>\n",
       "    <tr>\n",
       "      <th>1</th>\n",
       "      <td>Abdominal Pain Worse On Pressing, Right Sided ...</td>\n",
       "      <td>Acute Cholecystitis,Appendicitis</td>\n",
       "    </tr>\n",
       "    <tr>\n",
       "      <th>2</th>\n",
       "      <td>Abdominal pain</td>\n",
       "      <td>Bowel Cancer,Constipation,Crohn's disease,Glut...</td>\n",
       "    </tr>\n",
       "    <tr>\n",
       "      <th>3</th>\n",
       "      <td>Abdominal pain after eating</td>\n",
       "      <td>Acid reflux,Gallstone,Irritable bowel syndrome...</td>\n",
       "    </tr>\n",
       "    <tr>\n",
       "      <th>4</th>\n",
       "      <td>Abdominal pain and Bloody diarrhoea</td>\n",
       "      <td>Crohn's disease,Ulcerative colitis</td>\n",
       "    </tr>\n",
       "  </tbody>\n",
       "</table>\n",
       "</div>"
      ],
      "text/plain": [
       "                                             symptom                                            disease\n",
       "0  Abdominal Pain Spreading To Shoulder Blade, Ri...                      Acute Cholecystitis,Gallstone\n",
       "1  Abdominal Pain Worse On Pressing, Right Sided ...                   Acute Cholecystitis,Appendicitis\n",
       "2                                     Abdominal pain  Bowel Cancer,Constipation,Crohn's disease,Glut...\n",
       "3                        Abdominal pain after eating  Acid reflux,Gallstone,Irritable bowel syndrome...\n",
       "4                Abdominal pain and Bloody diarrhoea                 Crohn's disease,Ulcerative colitis"
      ]
     },
     "execution_count": 12,
     "metadata": {},
     "output_type": "execute_result"
    }
   ],
   "source": [
    "links_data = pd.DataFrame({'symptom' : symptoms,'disease' : disease_name})\n",
    "#links_data = links_data.reset_index()\n",
    "links_data.head()"
   ]
  },
  {
   "cell_type": "code",
   "execution_count": 13,
   "metadata": {},
   "outputs": [],
   "source": [
    "links_data = links_data[links_data[\"symptom\"].str.contains('and')==False].reset_index()"
   ]
  },
  {
   "cell_type": "code",
   "execution_count": 14,
   "metadata": {},
   "outputs": [],
   "source": [
    "links_data.drop(['index'],axis=1,inplace=True)"
   ]
  },
  {
   "cell_type": "code",
   "execution_count": 15,
   "metadata": {},
   "outputs": [],
   "source": [
    "final_new=links_data.disease.str.split(pat = \",\",expand=True)"
   ]
  },
  {
   "cell_type": "code",
   "execution_count": 16,
   "metadata": {},
   "outputs": [],
   "source": [
    "new_one = final_new.merge(links_data, left_index = True, right_index = True)\n",
    "new_one = new_one.drop([\"disease\"],axis=1)\n",
    "new_one = new_one.melt(id_vars = [\"symptom\"], value_name = \"disease\")"
   ]
  },
  {
   "cell_type": "code",
   "execution_count": 17,
   "metadata": {},
   "outputs": [],
   "source": [
    "new_one = new_one.sort_values(by='symptom')\n",
    "new_one = new_one.dropna()\n",
    "new_one = new_one.drop(['variable'],axis=1)\n",
    "new_one = new_one.reset_index().drop(['index'],axis=1)"
   ]
  },
  {
   "cell_type": "code",
   "execution_count": 18,
   "metadata": {},
   "outputs": [],
   "source": [
    "new_one.to_csv('new.csv',index=False)"
   ]
  },
  {
   "cell_type": "code",
   "execution_count": 19,
   "metadata": {},
   "outputs": [],
   "source": [
    "symptoms = []\n",
    "disease_name = []\n",
    "count = 0\n",
    "for each_disease_link in list_of_href:\n",
    "    \n",
    "    each_disease_req = requests.get(each_disease_link)\n",
    "    disease_soup = BeautifulSoup(each_disease_req.content, 'html.parser')\n",
    "    \n",
    "    heading = disease_soup.find('h1').text\n",
    "    sections = disease_soup.find(\"section\", {\"class\": \"bigfoot-section\"})\n",
    "    try:\n",
    "        name = sections.find('ul').text.strip()\n",
    "    except:\n",
    "        ValueError\n",
    "    name = name.replace(\"  \", \"\")\n",
    "    name = name.replace(\"\\n\\n\\n\\n\\n\", \",\")\n",
    "    name = name.split(',')\n",
    "    p = len(name)\n",
    "    \n",
    "    sections = disease_soup.find_all(\"section\", {\"class\": \"bigfoot-section\"})[1:p]\n",
    "    \n",
    "    \n",
    "    \n",
    "    count=count+1\n",
    "    if(count==3):\n",
    "        break"
   ]
  },
  {
   "cell_type": "code",
   "execution_count": 20,
   "metadata": {},
   "outputs": [
    {
     "data": {
      "text/plain": [
       "[<section class=\"bigfoot-section\">\n",
       " <h2 id=\"cancer-of-the-colon-rectum-or-bowel\">Bowel Cancer</h2>\n",
       " <p>\n",
       "                                     Bowel cancer is a general term for cancer that begins in the large bowel.\n",
       "                                 </p>\n",
       " <br/>\n",
       " <!-- <p>\n",
       "                             2. Inteligent paragraph generated with full Condition data\n",
       "                             </p>\n",
       "                             <br> -->\n",
       " <h4>Symptoms of this condition may include:</h4>\n",
       " <ul>\n",
       " <li>Diarrhoea</li>\n",
       " <li>Blood in stool or poo</li>\n",
       " <li>Abdominal pain</li>\n",
       " <li>Change in bowel habit</li>\n",
       " <li>Bloody diarrhoea</li>\n",
       " </ul>\n",
       " <p>Our Health A-Z contains more information on <a href=\"/condition/cancer-of-the-colon-rectum-or-bowel/#symptoms\"><b>Bowel Cancer</b></a>.</p>\n",
       " <p><a href=\"https://webapp.your.md/login?utm_source=yourmd&amp;utm_medium=in-article&amp;utm_campaign=your-symptoms\" target=\"_blank\">If you are worried about this condition you can try our free AI Symptom Checker here.</a></p>\n",
       " </section>, <section class=\"bigfoot-section\">\n",
       " <h2 id=\"constipation\">Constipation</h2>\n",
       " <p>\n",
       "                                     Constipation is a common condition that affects people of all ages.\n",
       "                                 </p>\n",
       " <br/>\n",
       " <!-- <p>\n",
       "                             2. Inteligent paragraph generated with full Condition data\n",
       "                             </p>\n",
       "                             <br> -->\n",
       " <h4>Symptoms of this condition may include:</h4>\n",
       " <ul>\n",
       " <li>Constipation</li>\n",
       " <li>Abdominal pain</li>\n",
       " <li>Unable to completely empty bowels</li>\n",
       " <li>Stomach cramps</li>\n",
       " <li>Bloated stomach</li>\n",
       " </ul>\n",
       " <p>Our Health A-Z contains more information on <a href=\"/condition/constipation/#symptoms\"><b>Constipation</b></a>.</p>\n",
       " <p><a href=\"https://webapp.your.md/login?utm_source=yourmd&amp;utm_medium=in-article&amp;utm_campaign=your-symptoms\" target=\"_blank\">If you are worried about this condition you can try our free AI Symptom Checker here.</a></p>\n",
       " </section>, <section class=\"bigfoot-section\">\n",
       " <h2 id=\"crohns-disease\">Crohn's disease</h2>\n",
       " <p>\n",
       "                                     Crohn’s disease is a long-term condition that causes inflammation of the lining of the digestive system.\n",
       "                                 </p>\n",
       " <br/>\n",
       " <!-- <p>\n",
       "                             2. Inteligent paragraph generated with full Condition data\n",
       "                             </p>\n",
       "                             <br> -->\n",
       " <h4>Symptoms of this condition may include:</h4>\n",
       " <ul>\n",
       " <li>Diarrhoea</li>\n",
       " <li>Abdominal pain</li>\n",
       " <li>Unusually tired</li>\n",
       " <li>Stomach cramps</li>\n",
       " <li>Change in bowel habit</li>\n",
       " </ul>\n",
       " <p>Our Health A-Z contains more information on <a href=\"/condition/crohns-disease/#symptoms\"><b>Crohn's disease</b></a>.</p>\n",
       " <p><a href=\"https://webapp.your.md/login?utm_source=yourmd&amp;utm_medium=in-article&amp;utm_campaign=your-symptoms\" target=\"_blank\">If you are worried about this condition you can try our free AI Symptom Checker here.</a></p>\n",
       " </section>, <section class=\"bigfoot-section\">\n",
       " <h2 id=\"coeliac-disease\">Gluten Intolerance</h2>\n",
       " <p>\n",
       "                                     Coeliac disease is a common digestive condition where the small intestine becomes inflamed and unable to absorb nutrients.\n",
       "                                 </p>\n",
       " <br/>\n",
       " <!-- <p>\n",
       "                             2. Inteligent paragraph generated with full Condition data\n",
       "                             </p>\n",
       "                             <br> -->\n",
       " <h4>Symptoms of this condition may include:</h4>\n",
       " <ul>\n",
       " <li>Diarrhoea</li>\n",
       " <li>Bloated stomach</li>\n",
       " <li>Unusually tired</li>\n",
       " <li>Continuous, unexplained weight loss</li>\n",
       " <li>Passing excessive wind</li>\n",
       " </ul>\n",
       " <p>Our Health A-Z contains more information on <a href=\"/condition/coeliac-disease/#symptoms\"><b>Gluten Intolerance</b></a>.</p>\n",
       " <p><a href=\"https://webapp.your.md/login?utm_source=yourmd&amp;utm_medium=in-article&amp;utm_campaign=your-symptoms\" target=\"_blank\">If you are worried about this condition you can try our free AI Symptom Checker here.</a></p>\n",
       " </section>, <section class=\"bigfoot-section\">\n",
       " <h2 id=\"henoch-schonlein-purpura\">Henoch-Schönlein purpura</h2>\n",
       " <p>\n",
       "                                     Henoch-Schönlein purpura (\"hen-awk shern-line purr-purr-ah\") is a rare condition, usually seen in children, that causes blood vessels to become inflamed.\n",
       "                                 </p>\n",
       " <br/>\n",
       " <!-- <p>\n",
       "                             2. Inteligent paragraph generated with full Condition data\n",
       "                             </p>\n",
       "                             <br> -->\n",
       " <h4>Symptoms of this condition may include:</h4>\n",
       " <ul>\n",
       " <li>Bruise-like rash</li>\n",
       " <li>Abdominal pain</li>\n",
       " <li>High temperature</li>\n",
       " <li>Pain in more than one joint</li>\n",
       " <li>Painful knee</li>\n",
       " </ul>\n",
       " <p>Our Health A-Z contains more information on <a href=\"/condition/henoch-schonlein-purpura/#symptoms\"><b>Henoch-Schönlein purpura</b></a>.</p>\n",
       " <p><a href=\"https://webapp.your.md/login?utm_source=yourmd&amp;utm_medium=in-article&amp;utm_campaign=your-symptoms\" target=\"_blank\">If you are worried about this condition you can try our free AI Symptom Checker here.</a></p>\n",
       " </section>, <section class=\"bigfoot-section\">\n",
       " <h2 id=\"irritable-bowel-syndrome\">Irritable bowel syndrome</h2>\n",
       " <p>\n",
       "                                     Irritable bowel syndrome (  IBS)  is a common, long-term condition of the digestive system.\n",
       "                                 </p>\n",
       " <br/>\n",
       " <!-- <p>\n",
       "                             2. Inteligent paragraph generated with full Condition data\n",
       "                             </p>\n",
       "                             <br> -->\n",
       " <h4>Symptoms of this condition may include:</h4>\n",
       " <ul>\n",
       " <li>Bloated stomach</li>\n",
       " <li>Abdominal pain after eating</li>\n",
       " <li>Constipation</li>\n",
       " <li>Diarrhoea</li>\n",
       " <li>Passing excessive wind</li>\n",
       " </ul>\n",
       " <p>Our Health A-Z contains more information on <a href=\"/condition/irritable-bowel-syndrome/#symptoms\"><b>Irritable bowel syndrome</b></a>.</p>\n",
       " <p><a href=\"https://webapp.your.md/login?utm_source=yourmd&amp;utm_medium=in-article&amp;utm_campaign=your-symptoms\" target=\"_blank\">If you are worried about this condition you can try our free AI Symptom Checker here.</a></p>\n",
       " </section>, <section class=\"bigfoot-section\">\n",
       " <h2 id=\"typhoid-fever\">Typhoid fever</h2>\n",
       " <p>\n",
       "                                     Typhoid fever is a bacterial infection that can spread throughout the body, affecting many organs.\n",
       "                                 </p>\n",
       " <br/>\n",
       " <!-- <p>\n",
       "                             2. Inteligent paragraph generated with full Condition data\n",
       "                             </p>\n",
       "                             <br> -->\n",
       " <h4>Symptoms of this condition may include:</h4>\n",
       " <ul>\n",
       " <li>Feeling sick or nausea</li>\n",
       " <li>Abdominal pain</li>\n",
       " <li>Constipation</li>\n",
       " <li>Diarrhoea</li>\n",
       " <li>High temperature</li>\n",
       " </ul>\n",
       " <p>Our Health A-Z contains more information on <a href=\"/condition/typhoid-fever/#symptoms\"><b>Typhoid fever</b></a>.</p>\n",
       " <p><a href=\"https://webapp.your.md/login?utm_source=yourmd&amp;utm_medium=in-article&amp;utm_campaign=your-symptoms\" target=\"_blank\">If you are worried about this condition you can try our free AI Symptom Checker here.</a></p>\n",
       " </section>]"
      ]
     },
     "execution_count": 20,
     "metadata": {},
     "output_type": "execute_result"
    }
   ],
   "source": [
    "sections"
   ]
  },
  {
   "cell_type": "code",
   "execution_count": 21,
   "metadata": {},
   "outputs": [],
   "source": []
  }
 ],
 "metadata": {
  "kernelspec": {
   "display_name": "Python 3",
   "language": "python",
   "name": "python3"
  },
  "language_info": {
   "codemirror_mode": {
    "name": "ipython",
    "version": 3
   },
   "file_extension": ".py",
   "mimetype": "text/x-python",
   "name": "python",
   "nbconvert_exporter": "python",
   "pygments_lexer": "ipython3",
   "version": "3.6.7"
  }
 },
 "nbformat": 4,
 "nbformat_minor": 1
}
